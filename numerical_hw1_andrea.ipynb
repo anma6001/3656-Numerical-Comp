{
 "cells": [
  {
   "cell_type": "code",
   "execution_count": 12,
   "metadata": {},
   "outputs": [],
   "source": [
    "import math\n",
    "from numpy import linspace\n",
    "from numpy import allclose\n",
    "from matplotlib import pyplot as plt"
   ]
  },
  {
   "cell_type": "markdown",
   "metadata": {},
   "source": [
    "1. Implement Horner's Algorithm:"
   ]
  },
  {
   "cell_type": "code",
   "execution_count": 3,
   "metadata": {},
   "outputs": [],
   "source": [
    "#An algorithm to simplify calculating polynomials at a point x\n",
    "\n",
    "#coef: a list of coefficients starting from the nth \n",
    "#n: the degree of the polynomial\n",
    "#x: the point to evaluate the polynomial at\n",
    "def horner(coef, n, x) :\n",
    "    result = coef[0]\n",
    "    \n",
    "    for i in range(1,n):\n",
    "        result = result*x + coef[i]\n",
    "    \n",
    "    return result\n"
   ]
  },
  {
   "cell_type": "code",
   "execution_count": 4,
   "metadata": {},
   "outputs": [
    {
     "data": {
      "text/plain": [
       "5"
      ]
     },
     "execution_count": 4,
     "metadata": {},
     "output_type": "execute_result"
    }
   ],
   "source": [
    "poly = [2, -6, 2, -1] \n",
    "x = 3\n",
    "n = len(poly) \n",
    "  \n",
    "horner(poly, n, x)"
   ]
  },
  {
   "cell_type": "markdown",
   "metadata": {},
   "source": [
    "$p_1(x) = x^9−18x^8+ 144x^7−672x^6+ 2016x^5−4032x^4+ 5376x^3−4608x^2+ 2304x−512$<br>\n",
    "$p_2(x) = (x-2)^9$"
   ]
  },
  {
   "cell_type": "markdown",
   "metadata": {},
   "source": [
    " 2. Generate 8000 equally spaced points in the interval [1.92, 2.08].  Evaluate and plot p1(x) at each point in the interval. "
   ]
  },
  {
   "cell_type": "code",
   "execution_count": 5,
   "metadata": {},
   "outputs": [
    {
     "name": "stdout",
     "output_type": "stream",
     "text": [
      "1.92 1.9200200025003125 1.920040005000625 1.9200600075009375 8000\n"
     ]
    }
   ],
   "source": [
    "x = linspace(1.92, 2.08, num=8000)\n",
    "print(x[0], x[1], x[2], x[3], len(x))\n",
    "y1 = [(a-2)**9 for a in x]"
   ]
  },
  {
   "cell_type": "code",
   "execution_count": 6,
   "metadata": {},
   "outputs": [],
   "source": [
    "p2coef = [1, -18, 144, -672, 2016, -4032, 5376, -4608, 2304, -512]\n",
    "\n",
    "y2 = [horner(p2coef, len(p2coef), a) for a in x]"
   ]
  },
  {
   "cell_type": "code",
   "execution_count": 7,
   "metadata": {
    "scrolled": true
   },
   "outputs": [
    {
     "data": {
      "image/png": "[encoded data removed]",
      "text/plain": [
       "<Figure size 432x288 with 1 Axes>"
      ]
     },
     "metadata": {
      "needs_background": "light"
     },
     "output_type": "display_data"
    }
   ],
   "source": [
    "plt.plot(x, y1)\n",
    "plt.ylim([-1.5*10**(-10), 1.5*10**(-10)])\n",
    "plt.xlabel(\"x\")\n",
    "plt.ylabel(\"p1(x)\")\n",
    "plt.show()"
   ]
  },
  {
   "cell_type": "markdown",
   "metadata": {},
   "source": [
    "3. In a separate figure, evaluate and plot p2(x) using Horner’s algorithm.  In exact arithmetic, these should be the same.   What’s going on in these plots?\n"
   ]
  },
  {
   "cell_type": "code",
   "execution_count": 8,
   "metadata": {
    "scrolled": true
   },
   "outputs": [
    {
     "data": {
      "image/png": "[encoded data removed]",
      "text/plain": [
       "<Figure size 432x288 with 1 Axes>"
      ]
     },
     "metadata": {
      "needs_background": "light"
     },
     "output_type": "display_data"
    }
   ],
   "source": [
    "plt.plot(x, y2)\n",
    "plt.ylim([-1.5*10**(-10), 1.5*10**(-10)])\n",
    "plt.xlabel(\"x\")\n",
    "plt.ylabel(\"p2(x)\")\n",
    "plt.show()"
   ]
  },
  {
   "cell_type": "code",
   "execution_count": 18,
   "metadata": {
    "scrolled": true
   },
   "outputs": [
    {
     "name": "stdout",
     "output_type": "stream",
     "text": [
      "511.99999999986875 -512\n",
      "511.9999999998625 -512\n",
      "511.99999999986795 -512\n",
      "511.99999999986284 -512\n",
      "511.9999999998641 -512\n",
      "511.99999999986557 -512\n",
      "511.9999999998717 -512\n",
      "511.99999999986625 -512\n",
      "511.9999999998645 -512\n",
      "511.99999999986903 -512\n"
     ]
    }
   ],
   "source": [
    "def hornertest(coef, n, x) :\n",
    "    result = coef[0]\n",
    "    \n",
    "    for i in range(1,n):\n",
    "        if allclose(result*x, -coef[i], rtol=1e-05, atol=1e-08):\n",
    "            print(result*x, coef[i])\n",
    "        result = result*x + coef[i]\n",
    "    \n",
    "    return result\n",
    "\n",
    "test = [hornertest(p2coef, len(p2coef), a) for a in x[0:10]]"
   ]
  },
  {
   "cell_type": "markdown",
   "metadata": {},
   "source": [
    "When evaluating p2(x) in the neighborhood of x = 2 the result is approximately 0, which we can see from $p_1(x) = (x - 2)^9 = p_2(x)$.  Because the final coefficient is already negative, the final calculation in the algorithm will always be subtracting two nearly equal numbers which results in much higher error calculations.  \n"
   ]
  },
  {
   "cell_type": "markdown",
   "metadata": {},
   "source": [
    "4.  Implement f1 and f2.  Make a table of your implementations evaluated at the points $x_k = 10^{-k}$ for k = 0,1,...,12.  You should see that f1 loses all accuracy as k increases (that is, as $x_k$ approaches zero), while f2 retains its accuracy.  Explain why."
   ]
  },
  {
   "cell_type": "code",
   "execution_count": 20,
   "metadata": {},
   "outputs": [],
   "source": [
    "x_k = [10**-k for k in range(0, 13)]\n",
    "\n",
    "def f1(x):\n",
    "    return (1-math.cos(x))/(math.sin(x)**2)\n",
    "\n",
    "def f2(x):\n",
    "    return 1/(1+math.cos(x))\n"
   ]
  },
  {
   "cell_type": "code",
   "execution_count": 21,
   "metadata": {},
   "outputs": [
    {
     "name": "stdout",
     "output_type": "stream",
     "text": [
      "    x          f1                     f2   \n",
      "1.00e+00   6.49223205e-01    6.49223205e-01\n",
      "1.00e-01   5.01252086e-01    5.01252086e-01\n",
      "1.00e-02   5.00012500e-01    5.00012500e-01\n",
      "1.00e-03   5.00000125e-01    5.00000125e-01\n",
      "1.00e-04   4.99999999e-01    5.00000001e-01\n",
      "1.00e-05   5.00000041e-01    5.00000000e-01\n",
      "1.00e-06   5.00044450e-01    5.00000000e-01\n",
      "1.00e-07   4.99600361e-01    5.00000000e-01\n",
      "1.00e-08   0.00000000e+00    5.00000000e-01\n",
      "1.00e-09   0.00000000e+00    5.00000000e-01\n",
      "1.00e-10   0.00000000e+00    5.00000000e-01\n",
      "1.00e-11   0.00000000e+00    5.00000000e-01\n",
      "1.00e-12   0.00000000e+00    5.00000000e-01\n"
     ]
    }
   ],
   "source": [
    "print(\"    x          f1                     f2   \")\n",
    "for x in x_k:\n",
    "    print(\"{:.2e}\".format(x),\" \",\"{:.8e}\".format(f1(x)),\"  \",\"{:.8e}\".format(f2(x)))"
   ]
  },
  {
   "cell_type": "markdown",
   "metadata": {},
   "source": [
    "Again, in f1 as x approaches 0, cos(x) approaches one so we approach a subtraction of nearly equal numbers.  This calculation does seem to be different because f1 has some minor error for k = 4-7 and then drops off completely after that.  "
   ]
  }
 ],
 "metadata": {
  "kernelspec": {
   "display_name": "Python 3",
   "language": "python",
   "name": "python3"
  },
  "language_info": {
   "codemirror_mode": {
    "name": "ipython",
    "version": 3
   },
   "file_extension": ".py",
   "mimetype": "text/x-python",
   "name": "python",
   "nbconvert_exporter": "python",
   "pygments_lexer": "ipython3",
   "version": "3.8.5"
  }
 },
 "nbformat": 4,
 "nbformat_minor": 4
}
